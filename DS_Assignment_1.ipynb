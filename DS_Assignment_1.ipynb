{
 "cells": [
  {
   "cell_type": "code",
   "execution_count": 1,
   "id": "79cafbf7",
   "metadata": {},
   "outputs": [
    {
     "name": "stdout",
     "output_type": "stream",
     "text": [
      "     Unnamed: 0  work_year experience_level employment_type  \\\n",
      "0             0       2020               MI              FT   \n",
      "1             1       2020               SE              FT   \n",
      "2             2       2020               SE              FT   \n",
      "3             3       2020               MI              FT   \n",
      "4             4       2020               SE              FT   \n",
      "..          ...        ...              ...             ...   \n",
      "602         602       2022               SE              FT   \n",
      "603         603       2022               SE              FT   \n",
      "604         604       2022               SE              FT   \n",
      "605         605       2022               SE              FT   \n",
      "606         606       2022               MI              FT   \n",
      "\n",
      "                      job_title  salary salary_currency  salary_in_usd  \\\n",
      "0                Data Scientist   70000             EUR          79833   \n",
      "1    Machine Learning Scientist  260000             USD         260000   \n",
      "2             Big Data Engineer   85000             GBP         109024   \n",
      "3          Product Data Analyst   20000             USD          20000   \n",
      "4     Machine Learning Engineer  150000             USD         150000   \n",
      "..                          ...     ...             ...            ...   \n",
      "602               Data Engineer  154000             USD         154000   \n",
      "603               Data Engineer  126000             USD         126000   \n",
      "604                Data Analyst  129000             USD         129000   \n",
      "605                Data Analyst  150000             USD         150000   \n",
      "606                AI Scientist  200000             USD         200000   \n",
      "\n",
      "    employee_residence  remote_ratio company_location company_size  \n",
      "0                   DE             0               DE            L  \n",
      "1                   JP             0               JP            S  \n",
      "2                   GB            50               GB            M  \n",
      "3                   HN             0               HN            S  \n",
      "4                   US            50               US            L  \n",
      "..                 ...           ...              ...          ...  \n",
      "602                 US           100               US            M  \n",
      "603                 US           100               US            M  \n",
      "604                 US             0               US            M  \n",
      "605                 US           100               US            M  \n",
      "606                 IN           100               US            L  \n",
      "\n",
      "[607 rows x 12 columns]\n"
     ]
    }
   ],
   "source": [
    "import numpy as np\n",
    "import pandas as pd\n",
    "import matplotlib.pyplot as plt\n",
    "df=pd.read_csv(r'C:\\Users\\LAVANYA\\Downloads\\archive - Copy.zip')\n",
    "print(df)"
   ]
  },
  {
   "cell_type": "code",
   "execution_count": 16,
   "id": "f21409cf",
   "metadata": {},
   "outputs": [
    {
     "name": "stdout",
     "output_type": "stream",
     "text": [
      "\n",
      "Selecting Columns:\n",
      "    experience_level  work_year employment_type                   job_title  \\\n",
      "0                 MI       2020              FT              Data Scientist   \n",
      "1                 SE       2020              FT  Machine Learning Scientist   \n",
      "2                 SE       2020              FT           Big Data Engineer   \n",
      "3                 MI       2020              FT        Product Data Analyst   \n",
      "4                 SE       2020              FT   Machine Learning Engineer   \n",
      "..               ...        ...             ...                         ...   \n",
      "602               SE       2022              FT               Data Engineer   \n",
      "603               SE       2022              FT               Data Engineer   \n",
      "604               SE       2022              FT                Data Analyst   \n",
      "605               SE       2022              FT                Data Analyst   \n",
      "606               MI       2022              FT                AI Scientist   \n",
      "\n",
      "     salary  \n",
      "0     70000  \n",
      "1    260000  \n",
      "2     85000  \n",
      "3     20000  \n",
      "4    150000  \n",
      "..      ...  \n",
      "602  154000  \n",
      "603  126000  \n",
      "604  129000  \n",
      "605  150000  \n",
      "606  200000  \n",
      "\n",
      "[607 rows x 5 columns]\n"
     ]
    }
   ],
   "source": [
    "selected_columns = df[['experience_level','work_year', 'employment_type','job_title', 'salary']]\n",
    "print(\"\\nSelecting Columns:\")\n",
    "print(selected_columns)"
   ]
  },
  {
   "cell_type": "code",
   "execution_count": 51,
   "id": "a9a5c4b4",
   "metadata": {},
   "outputs": [
    {
     "name": "stdout",
     "output_type": "stream",
     "text": [
      "    experience_level  work_year employment_type             job_title  salary\n",
      "0                 MI       2020              FT        Data Scientist   70000\n",
      "2                 SE       2020              FT     Big Data Engineer   85000\n",
      "3                 MI       2020              FT  Product Data Analyst   20000\n",
      "5                 EN       2020              FT          Data Analyst   72000\n",
      "10                EN       2020              FT        Data Scientist   45000\n",
      "..               ...        ...             ...                   ...     ...\n",
      "586               MI       2022              FT          Data Analyst   35000\n",
      "588               SE       2022              FT          Data Analyst   99000\n",
      "589               SE       2022              FT          Data Analyst   60000\n",
      "600               EN       2022              FT          Data Analyst   67000\n",
      "601               EN       2022              FT          Data Analyst   52000\n",
      "\n",
      "[246 rows x 5 columns]\n"
     ]
    }
   ],
   "source": [
    "filtered_df = selected_columns[selected_columns['salary']<100000]\n",
    "print(filtered_df)"
   ]
  },
  {
   "cell_type": "code",
   "execution_count": 52,
   "id": "002f1821",
   "metadata": {},
   "outputs": [
    {
     "name": "stdout",
     "output_type": "stream",
     "text": [
      "    experience_level  work_year employment_type        job_title  salary\n",
      "185               MI       2021              FT    Data Engineer    4000\n",
      "238               EN       2021              FT   Data Scientist    4000\n",
      "15                MI       2020              FT     Data Analyst    8000\n",
      "124               EN       2021              PT     Data Analyst    8760\n",
      "196               EN       2021              FT  BI Data Analyst    9272\n",
      "..               ...        ...             ...              ...     ...\n",
      "305               SE       2022              FT     Data Analyst   99000\n",
      "588               SE       2022              FT     Data Analyst   99000\n",
      "548               SE       2022              FT     Data Analyst   99050\n",
      "543               MI       2022              FT    Data Engineer   99100\n",
      "299               SE       2022              FT   Data Scientist   99360\n",
      "\n",
      "[246 rows x 5 columns]\n"
     ]
    }
   ],
   "source": [
    "sorted_filtered_df = filtered_df.sort_values('salary')\n",
    "print(sorted_filtered_df)"
   ]
  },
  {
   "cell_type": "code",
   "execution_count": 53,
   "id": "6db7918f",
   "metadata": {},
   "outputs": [
    {
     "name": "stdout",
     "output_type": "stream",
     "text": [
      "         work_year        salary\n",
      "count   246.000000    246.000000\n",
      "mean   2021.280488  59310.455285\n",
      "std       0.710408  23557.556193\n",
      "min    2020.000000   4000.000000\n",
      "25%    2021.000000  43200.000000\n",
      "50%    2021.000000  60000.000000\n",
      "75%    2022.000000  80000.000000\n",
      "max    2022.000000  99360.000000\n"
     ]
    }
   ],
   "source": [
    "statistics=sorted_filtered_df.describe()\n",
    "print(statistics)"
   ]
  },
  {
   "cell_type": "code",
   "execution_count": 56,
   "id": "8f54e9be",
   "metadata": {},
   "outputs": [],
   "source": [
    "x=['2020','2021','2022']\n",
    "y=[4000.000000,60000.000000,99360.000000]"
   ]
  },
  {
   "cell_type": "code",
   "execution_count": 58,
   "id": "829f6004",
   "metadata": {},
   "outputs": [
    {
     "data": {
      "image/png": "[encoded data removed]",
      "text/plain": [
       "<Figure size 640x480 with 1 Axes>"
      ]
     },
     "metadata": {},
     "output_type": "display_data"
    }
   ],
   "source": [
    "plt.bar(x, y)\n",
    "plt.title(\"Bar Plot\")\n",
    "plt.xlabel(\"work_year\")\n",
    "plt.ylabel(\"salary\")\n",
    "plt.show()"
   ]
  },
  {
   "cell_type": "code",
   "execution_count": null,
   "id": "e7265bd1",
   "metadata": {},
   "outputs": [],
   "source": []
  }
 ],
 "metadata": {
  "kernelspec": {
   "display_name": "Python 3 (ipykernel)",
   "language": "python",
   "name": "python3"
  },
  "language_info": {
   "codemirror_mode": {
    "name": "ipython",
    "version": 3
   },
   "file_extension": ".py",
   "mimetype": "text/x-python",
   "name": "python",
   "nbconvert_exporter": "python",
   "pygments_lexer": "ipython3",
   "version": "3.10.9"
  }
 },
 "nbformat": 4,
 "nbformat_minor": 5
}
